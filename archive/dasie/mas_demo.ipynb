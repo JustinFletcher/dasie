{
 "cells": [
  {
   "cell_type": "markdown",
   "metadata": {},
   "source": [
    "## Multi-aperture telescope simulation sampler demonstration\n",
    "Author: Ian Cunnyngham (Institute for Astronomy 2019,2020)\n",
    "\n",
    "Simulates multi-aperture telescope optical performance with piston, tip, tilt actuation, atmospheres, etc. in HCIPy and returns samples in a format structured for deep learning applications"
   ]
  },
  {
   "cell_type": "code",
   "execution_count": 2,
   "metadata": {
    "pycharm": {
     "is_executing": false
    }
   },
   "outputs": [
    {
     "traceback": [
      "\u001b[1;31m---------------------------------------------------------------------------\u001b[0m",
      "\u001b[1;31mModuleNotFoundError\u001b[0m                       Traceback (most recent call last)",
      "\u001b[1;32m<ipython-input-2-89c01279d1f1>\u001b[0m in \u001b[0;36m<module>\u001b[1;34m()\u001b[0m\n\u001b[0;32m      2\u001b[0m \u001b[1;32mimport\u001b[0m \u001b[0mnumpy\u001b[0m \u001b[1;32mas\u001b[0m \u001b[0mnp\u001b[0m\u001b[1;33m\u001b[0m\u001b[0m\n\u001b[0;32m      3\u001b[0m \u001b[1;32mimport\u001b[0m \u001b[0mmatplotlib\u001b[0m\u001b[1;33m.\u001b[0m\u001b[0mpyplot\u001b[0m \u001b[1;32mas\u001b[0m \u001b[0mplt\u001b[0m\u001b[1;33m\u001b[0m\u001b[0m\n\u001b[1;32m----> 4\u001b[1;33m \u001b[1;32mimport\u001b[0m \u001b[0mhcipy\u001b[0m\u001b[1;33m\u001b[0m\u001b[0m\n\u001b[0m\u001b[0;32m      5\u001b[0m \u001b[1;32mfrom\u001b[0m \u001b[0mmulti_aperture_psf\u001b[0m \u001b[1;32mimport\u001b[0m \u001b[1;33m*\u001b[0m\u001b[1;33m\u001b[0m\u001b[0m\n\u001b[0;32m      6\u001b[0m \u001b[1;33m\u001b[0m\u001b[0m\n",
      "\u001b[1;31mModuleNotFoundError\u001b[0m: No module named 'hcipy'"
     ],
     "ename": "ModuleNotFoundError",
     "evalue": "No module named 'hcipy'",
     "output_type": "error"
    }
   ],
   "source": [
    "import numpy as np\n",
    "import matplotlib.pyplot as plt\n",
    "import hcipy\n",
    "from multi_aperture_psf import *\n",
    "\n",
    "%matplotlib inline"
   ]
  },
  {
   "cell_type": "markdown",
   "metadata": {},
   "source": [
    "### Set up sampler\n",
    "\n",
    "Pick either a single large aperture or Mini-ELF mirror configuration"
   ]
  },
  {
   "cell_type": "code",
   "execution_count": null,
   "metadata": {
    "pycharm": {
     "is_executing": false
    }
   },
   "outputs": [],
   "source": [
    "# One big aperture with D=2.5m\n",
    "nMir = 1\n",
    "mir_centers = hcipy.CartesianGrid(np.array([[0], [0]]))\n",
    "mir_diamater, pup_diamater = 2.5, 2.5"
   ]
  },
  {
   "cell_type": "code",
   "execution_count": null,
   "metadata": {
    "pycharm": {
     "is_executing": false
    }
   },
   "outputs": [],
   "source": [
    "# Mini-ELF: 2.5m ring of 15 D~=.5m apertures (grown slightly for closest packing)\n",
    "nMir = 15\n",
    "telescopeR = 1.25 # meters\n",
    "mir_coords = hcipy.SeparatedCoords((np.array([telescopeR]), np.linspace(0, 2*np.pi, nMir+1)[:-1]))\n",
    "mir_centers = hcipy.PolarGrid(mir_coords).as_('cartesian')\n",
    "mir_diamater = np.sqrt((mir_centers.x[1]-mir_centers.x[0])**2 + (mir_centers.y[1]-mir_centers.y[0])**2) \n",
    "pup_diamater = max(mir_centers.x.max() - mir_centers.x.min(), mir_centers.y.max() - mir_centers.y.min()) + mir_diamater\n",
    "pup_diamater *= 1.05  # Add a little extra for edges, not convinced not cutting off\n",
    "print(mir_diamater, pup_diamater)"
   ]
  },
  {
   "cell_type": "code",
   "execution_count": null,
   "metadata": {
    "pycharm": {
     "is_executing": false
    }
   },
   "outputs": [],
   "source": [
    "mas_setup = {\n",
    "    'mirror_config': {\n",
    "        'positions': mir_centers,\n",
    "        'aperture': hcipy.circular_aperture(mir_diamater),\n",
    "        'pupil_extent': pup_diamater,\n",
    "        'pupil_res': 256,\n",
    "        'piston_scale': 1e-6,   # meters\n",
    "        'tip_tilt_scale': 1e-6  # meters\n",
    "    },\n",
    "    # Two Filters, at 500nm and 1 micron, both with 4arcsec FOV and .05 frac bandwidth\n",
    "    'filter_configs': [ {\n",
    "        'central_lam': .5e-6,   # meters\n",
    "        'focal_extent': 4,      # arcsec\n",
    "        'focal_res': 256,\n",
    "        'frac_bandwidth': .05,\n",
    "        'num_samples': 3\n",
    "    },{\n",
    "        'central_lam': 1e-6,    # meters\n",
    "        'focal_extent': 4,      # arcsec\n",
    "        'focal_res': 256,\n",
    "        'frac_bandwidth': .05,\n",
    "        'num_samples': 3\n",
    "    } ] \n",
    "}\n",
    "mas_psf_sampler = MultiAperturePSFSampler(**mas_setup)"
   ]
  },
  {
   "cell_type": "code",
   "execution_count": null,
   "metadata": {
    "pycharm": {
     "is_executing": false
    }
   },
   "outputs": [],
   "source": [
    "# Generate PSFs no phase errors or atmosphere passed in, ideal case\n",
    "xh, yh, strehls = mas_psf_sampler.sample(meas_strehl=True)\n",
    "psf_filter1 = xh[..., 0]\n",
    "psf_filter2 = xh[..., 1]\n",
    "\n",
    "plt.figure(figsize=[16, 6])\n",
    "\n",
    "plt.subplot(121)\n",
    "im = plt.imshow(np.log10(psf_filter1), vmax=0)\n",
    "plt.title(f'Strehl {strehls[0]:.03f}')\n",
    "cbar = plt.colorbar(im)\n",
    "\n",
    "plt.subplot(122)\n",
    "im = plt.imshow(np.log10(psf_filter2), vmax=0)\n",
    "plt.title(f'Strehl {strehls[1]:.03f}')\n",
    "cbar = plt.colorbar(im)\n",
    "\n",
    "# For nice fixed plotting range later\n",
    "log_min = min( np.log10(psf_filter1).min(), np.log10(psf_filter2).min() )"
   ]
  },
  {
   "cell_type": "code",
   "execution_count": null,
   "metadata": {
    "pycharm": {
     "is_executing": false
    }
   },
   "outputs": [],
   "source": [
    "# Generate some random PTT errors and generate PSFS\n",
    "errs = np.random.normal(0, .1, (nMir, 3))\n",
    "\n",
    "xh, yh, strehls = mas_psf_sampler.sample(errs, meas_strehl=True)\n",
    "psf_filter1 = xh[..., 0]\n",
    "psf_filter2 = xh[..., 1]\n",
    "\n",
    "plt.figure(figsize=[16, 6])\n",
    "\n",
    "plt.subplot(121)\n",
    "im = plt.imshow(np.log10(psf_filter1), vmax=0, vmin=log_min)\n",
    "plt.title(f'Strehl {strehls[0]:.03f}')\n",
    "cbar = plt.colorbar(im)\n",
    "\n",
    "plt.subplot(122)\n",
    "im = plt.imshow(np.log10(psf_filter2), vmax=0, vmin=log_min)\n",
    "plt.title(f'Strehl {strehls[1]:.03f}')\n",
    "cbar = plt.colorbar(im)\n",
    "\n",
    "# For nice fixed plotting range later\n",
    "log_min = min( np.log10(psf_filter1).min(), np.log10(psf_filter2).min() )"
   ]
  },
  {
   "cell_type": "markdown",
   "metadata": {},
   "source": [
    "### Generate some atmospheres\n",
    "\n",
    "Pick either multi-layer or single-layer"
   ]
  },
  {
   "cell_type": "code",
   "execution_count": null,
   "metadata": {
    "pycharm": {
     "is_executing": false
    }
   },
   "outputs": [],
   "source": [
    "fried_params = .25, .550e-6  # r0 (meters), wavelength measured at (meters)\n",
    "outer_scale = 200            # (meters)"
   ]
  },
  {
   "cell_type": "code",
   "execution_count": null,
   "metadata": {
    "pycharm": {
     "is_executing": false
    }
   },
   "outputs": [],
   "source": [
    "# Multi-layer atmosphere\n",
    "layers = hcipy.make_standard_atmospheric_layers(mas_psf_sampler.pupil_grid, outer_scale)\n",
    "atmos = hcipy.MultiLayerAtmosphere(layers, scintilation=False)\n",
    "atmos.Cn_squared = hcipy.Cn_squared_from_fried_parameter(*fried_params)\n",
    "atmos.reset()"
   ]
  },
  {
   "cell_type": "code",
   "execution_count": null,
   "metadata": {
    "pycharm": {
     "is_executing": false
    }
   },
   "outputs": [],
   "source": [
    "# Single layer atmosphere\n",
    "cn2 = hcipy.Cn_squared_from_fried_parameter(*fried_params)\n",
    "atmos = hcipy.InfiniteAtmosphericLayer(mas_psf_sampler.pupil_grid, cn2, outer_scale, 10, 100)"
   ]
  },
  {
   "cell_type": "code",
   "execution_count": null,
   "metadata": {
    "pycharm": {
     "is_executing": false
    }
   },
   "outputs": [],
   "source": [
    "# Plot a phase screen at 1 micron\n",
    "atmos_1mic_phase = atmos.phase_for(1e-6)\n",
    "plt.imshow(atmos_1mic_phase.reshape((256, 256))) # With multi-atmos\n",
    "plt.colorbar()"
   ]
  },
  {
   "cell_type": "markdown",
   "metadata": {},
   "source": [
    "### Generate PSFs with atmosphere and no extra PTT errors\n",
    "\n",
    "Note: When atmosphere is passed in, optimal PTT correction is fit to the pupil and returned sclaed to actuation scale set in sampler (piston_scale and tip_tilt_scale)"
   ]
  },
  {
   "cell_type": "code",
   "execution_count": null,
   "metadata": {
    "pycharm": {
     "is_executing": false
    }
   },
   "outputs": [],
   "source": [
    "# Plot pupil and PSF with this atmosphere\n",
    "x, y_fit_atmos, strehls = mas_psf_sampler.sample(atmos=atmos, meas_strehl=True)\n",
    "psf_filter1 = x[..., 0]\n",
    "psf_filter2 = x[..., 1]\n",
    "\n",
    "plt.figure(figsize=[12,10])\n",
    "\n",
    "# Getting the phase screens to plot isn't as pretty as I'd like\n",
    "plt.subplot(221)\n",
    "awf1 = (atmos(mas_psf_sampler.sm(mas_psf_sampler.lam_setups[0]['wfs'][0])))\n",
    "hcipy.imshow_field(awf1.phase, mask=mas_psf_sampler.aper, cmap=\"twilight_shifted\", vmin=-np.pi, vmax=np.pi)\n",
    "plt.colorbar()\n",
    "\n",
    "plt.subplot(222)\n",
    "awf1 = (atmos(mas_psf_sampler.sm(mas_psf_sampler.lam_setups[1]['wfs'][0])))\n",
    "hcipy.imshow_field(awf1.phase, mask=mas_psf_sampler.aper, cmap=\"twilight_shifted\", vmin=-np.pi, vmax=np.pi)\n",
    "plt.colorbar()\n",
    "\n",
    "plt.subplot(223)\n",
    "im = plt.imshow(np.log10(psf_filter1), vmax=0, vmin=log_min, cmap='inferno')\n",
    "plt.title(f'Strehl {strehls[0]:.03f}')\n",
    "cbar = plt.colorbar(im)\n",
    "\n",
    "plt.subplot(224)\n",
    "im = plt.imshow(np.log10(psf_filter2), vmax=0, vmin=log_min, cmap='inferno')\n",
    "plt.title(f'Strehl {strehls[1]:.03f}')\n",
    "cbar = plt.colorbar(im)"
   ]
  },
  {
   "cell_type": "markdown",
   "metadata": {},
   "source": [
    "Do the same again, but feed in the optimal PTTs fit in last call to the sampler"
   ]
  },
  {
   "cell_type": "code",
   "execution_count": null,
   "metadata": {
    "pycharm": {
     "is_executing": false
    }
   },
   "outputs": [],
   "source": [
    "# Plot pupil and PSF with atmosphere and PTT correction\n",
    "x, y, strehls = mas_psf_sampler.sample(-y_fit_atmos, atmos=atmos, meas_strehl=True)\n",
    "psf_filter1 = x[..., 0]\n",
    "psf_filter2 = x[..., 1]\n",
    "\n",
    "plt.figure(figsize=[12,10])\n",
    "\n",
    "# Getting the phase screens to plot isn't as pretty as I'd like\n",
    "plt.subplot(221)\n",
    "awf1 = (atmos(mas_psf_sampler.sm(mas_psf_sampler.lam_setups[0]['wfs'][0])))\n",
    "hcipy.imshow_field(awf1.phase, mask=mas_psf_sampler.aper, cmap=\"twilight_shifted\", vmin=-np.pi, vmax=np.pi)\n",
    "plt.colorbar()\n",
    "\n",
    "plt.subplot(222)\n",
    "awf1 = (atmos(mas_psf_sampler.sm(mas_psf_sampler.lam_setups[1]['wfs'][0])))\n",
    "hcipy.imshow_field(awf1.phase, mask=mas_psf_sampler.aper, cmap=\"twilight_shifted\", vmin=-np.pi, vmax=np.pi)\n",
    "plt.colorbar()\n",
    "\n",
    "plt.subplot(223)\n",
    "im = plt.imshow(np.log10(psf_filter1), vmax=0, vmin=log_min, cmap='inferno')\n",
    "plt.title(f'Strehl {strehls[0]:.03f}')\n",
    "cbar = plt.colorbar(im)\n",
    "\n",
    "plt.subplot(224)\n",
    "im = plt.imshow(np.log10(psf_filter2), vmax=0, vmin=log_min, cmap='inferno')\n",
    "plt.title(f'Strehl {strehls[1]:.03f}')\n",
    "cbar = plt.colorbar(im)"
   ]
  },
  {
   "cell_type": "markdown",
   "metadata": {},
   "source": [
    "### Convolve PSF with an image \n",
    "\n",
    "If you pass in an image to conolve with PSF, sampler returns that instead of PSFs.  Any extra_processing specified in sampler (intensity power scaling, adding noise, generating FFTs) is applied to these images instead of the PSF\n",
    "\n",
    "Note: Image's angular pixel scale should agree with scales set in filter configs\n",
    "\n",
    "Also note: I haven't done anything to scale the output of convolution yet"
   ]
  },
  {
   "cell_type": "code",
   "execution_count": null,
   "metadata": {
    "pycharm": {
     "is_executing": false
    }
   },
   "outputs": [],
   "source": [
    "orig_im = plt.imread('unnamed4.png')"
   ]
  },
  {
   "cell_type": "code",
   "execution_count": null,
   "metadata": {
    "pycharm": {
     "is_executing": false
    }
   },
   "outputs": [],
   "source": [
    "# Plot images with atmosphere (no correction)\n",
    "x, y_fit_atmos, strehls = mas_psf_sampler.sample(atmos=atmos, convolve_im=orig_im, meas_strehl=True)\n",
    "im_filter1 = x[..., 0]\n",
    "im_filter2 = x[..., 1]\n",
    "\n",
    "plt.figure(figsize=[12,10])\n",
    "\n",
    "# Getting the phase screens to plot isn't as pretty as I'd like\n",
    "plt.subplot(221)\n",
    "awf1 = (atmos(mas_psf_sampler.sm(mas_psf_sampler.lam_setups[0]['wfs'][0])))\n",
    "hcipy.imshow_field(awf1.phase, mask=mas_psf_sampler.aper, cmap=\"twilight_shifted\", vmin=-np.pi, vmax=np.pi)\n",
    "plt.colorbar()\n",
    "\n",
    "plt.subplot(222)\n",
    "awf1 = (atmos(mas_psf_sampler.sm(mas_psf_sampler.lam_setups[1]['wfs'][0])))\n",
    "hcipy.imshow_field(awf1.phase, mask=mas_psf_sampler.aper, cmap=\"twilight_shifted\", vmin=-np.pi, vmax=np.pi)\n",
    "plt.colorbar()\n",
    "\n",
    "plt.subplot(223)\n",
    "im = plt.imshow(im_filter1, cmap='inferno')\n",
    "plt.title(f'Strehl {strehls[0]:.03f}')\n",
    "cbar = plt.colorbar(im)\n",
    "\n",
    "plt.subplot(224)\n",
    "im = plt.imshow(im_filter2, cmap='inferno')\n",
    "plt.title(f'Strehl {strehls[1]:.03f}')\n",
    "cbar = plt.colorbar(im)"
   ]
  },
  {
   "cell_type": "code",
   "execution_count": null,
   "metadata": {
    "pycharm": {
     "is_executing": false
    }
   },
   "outputs": [],
   "source": [
    "# Plot images with atmosphere (with correction)\n",
    "x, y, strehls = mas_psf_sampler.sample(-y_fit_atmos, atmos=atmos, convolve_im=orig_im, meas_strehl=True)\n",
    "im_filter1 = x[..., 0]\n",
    "im_filter2 = x[..., 1]\n",
    "\n",
    "plt.figure(figsize=[12,10])\n",
    "\n",
    "# Getting the phase screens to plot isn't as pretty as I'd like\n",
    "plt.subplot(221)\n",
    "awf1 = (atmos(mas_psf_sampler.sm(mas_psf_sampler.lam_setups[0]['wfs'][0])))\n",
    "hcipy.imshow_field(awf1.phase, mask=mas_psf_sampler.aper, cmap=\"twilight_shifted\", vmin=-np.pi, vmax=np.pi)\n",
    "plt.colorbar()\n",
    "\n",
    "plt.subplot(222)\n",
    "awf1 = (atmos(mas_psf_sampler.sm(mas_psf_sampler.lam_setups[1]['wfs'][0])))\n",
    "hcipy.imshow_field(awf1.phase, mask=mas_psf_sampler.aper, cmap=\"twilight_shifted\", vmin=-np.pi, vmax=np.pi)\n",
    "plt.colorbar()\n",
    "\n",
    "plt.subplot(223)\n",
    "im = plt.imshow(im_filter1, cmap='inferno')\n",
    "plt.title(f'Strehl {strehls[0]:.03f}')\n",
    "cbar = plt.colorbar(im)\n",
    "\n",
    "plt.subplot(224)\n",
    "im = plt.imshow(im_filter2, cmap='inferno')\n",
    "plt.title(f'Strehl {strehls[1]:.03f}')\n",
    "cbar = plt.colorbar(im)"
   ]
  },
  {
   "cell_type": "code",
   "execution_count": null,
   "metadata": {
    "pycharm": {
     "is_executing": false
    }
   },
   "outputs": [],
   "source": []
  }
 ],
 "metadata": {
  "kernelspec": {
   "display_name": "Python 3",
   "language": "python",
   "name": "python3"
  },
  "language_info": {
   "codemirror_mode": {
    "name": "ipython",
    "version": 3
   },
   "file_extension": ".py",
   "mimetype": "text/x-python",
   "name": "python",
   "nbconvert_exporter": "python",
   "pygments_lexer": "ipython3",
   "version": "3.6.8"
  }
 },
 "nbformat": 4,
 "nbformat_minor": 2
}